{
  "nbformat": 4,
  "nbformat_minor": 0,
  "metadata": {
    "colab": {
      "name": "Assignment1_ML_JapmanSingh049",
      "provenance": [],
      "collapsed_sections": []
    },
    "kernelspec": {
      "name": "python379jvsc74a57bd09d62b67334433270d2619c70a77cc8bf8d05718aba1da8a46ab2a6a0f811f907",
      "display_name": "Python 3.7.9 64-bit"
    },
    "language_info": {
      "name": "python",
      "version": "3.7.9"
    },
    "metadata": {
      "interpreter": {
        "hash": "9d62b67334433270d2619c70a77cc8bf8d05718aba1da8a46ab2a6a0f811f907"
      }
    }
  },
  "cells": [
    {
      "source": [
        "## Name - Japman Singh\n",
        "## Roll No. - 04913202717\n",
        "## Class - CSE1"
      ],
      "cell_type": "markdown",
      "metadata": {}
    },
    {
      "cell_type": "markdown",
      "metadata": {
        "id": "G21qt7x-LplQ"
      },
      "source": [
        "Q1. Create a program that asks the user to enter their name and their age. Print out a message addressed to them that tells them the year that they will turn 100 years old. \n",
        "Extras: \n",
        "1. Add on to the previous program by asking the user for another number and printing out that many copies of the previous message. \n",
        "2. Print out that many copies of the previous message on separate lines. (Hint: the string \"\\n is the same as pressing the ENTER button)"
      ]
    },
    {
      "cell_type": "code",
      "metadata": {
        "colab": {
          "base_uri": "https://localhost:8080/"
        },
        "id": "p8D52DCPjDHU",
        "outputId": "e9f22c39-df75-4976-bf7c-eb67ce01cfc4"
      },
      "source": [
        "import datetime\n",
        "\n",
        "def ageCalculator():\n",
        "\n",
        "  name = input(\"Enter Name -\")\n",
        "  age = int(input(\"Enter Age -\"))\n",
        "  repeat = int(input(\"Enter a number for repeating print statement -\"))\n",
        "  years_left = 100-age\n",
        "  years_100 = int((datetime.datetime.now().year))+years_left\n",
        "  \n",
        "  for i in range(repeat):\n",
        "      print(name, \" will be 100 years old in \",years_left, \" years\")\n",
        "ageCalculator()\n"
      ],
      "execution_count": 9,
      "outputs": [
        {
          "output_type": "stream",
          "text": [
            "Enter Name -Japman\n",
            "Enter Age -21\n",
            "Enter a number for repeating print statement -7\n",
            "Japman  will be 100 years old in  79  years\n",
            "Japman  will be 100 years old in  79  years\n",
            "Japman  will be 100 years old in  79  years\n",
            "Japman  will be 100 years old in  79  years\n",
            "Japman  will be 100 years old in  79  years\n",
            "Japman  will be 100 years old in  79  years\n",
            "Japman  will be 100 years old in  79  years\n"
          ],
          "name": "stdout"
        }
      ]
    },
    {
      "cell_type": "markdown",
      "metadata": {
        "id": "IUw5NhG6MOww"
      },
      "source": [
        "Q2. Take a list, say for example this one: \n",
        "a = \\[1, 1, 2, 3, 5, 8, 13, 21, 34, 55, 89\\] \n",
        "and write a program that prints out all the elements of the list that are less than 5. Extras: \n",
        "1. Instead of printing the elements one by one, make a new list that has all the elements less than 5 from this list in it and print out this new list. \n",
        "2. Write this in one line of Python. \n",
        "3. Ask the user for a number and return a list that contains only elements from the original list a that are smaller than that number given by the user. \n"
      ]
    },
    {
      "cell_type": "code",
      "metadata": {
        "colab": {
          "base_uri": "https://localhost:8080/"
        },
        "id": "IyScb3fxkT4z",
        "outputId": "1b8eb8f2-89dd-4815-bc36-239f17abb820"
      },
      "source": [
        "a = [1, 1, 2, 3, 5, 8, 13, 21, 34, 55, 89]\n",
        "\n",
        "for item in a:\n",
        "    if(int(item) < 5 ):\n",
        "        print(item, \"\\n\")\n",
        "        \n",
        "nlist = [ item for item in a if item < 5 ]\n",
        "print('The new list is - ' + str(nlist))\n",
        "\n",
        "number = input('Enter a number to compare and print smaller numbers')\n",
        "print([ item for item in a if item < int(number) ])"
      ],
      "execution_count": 24,
      "outputs": [
        {
          "output_type": "stream",
          "text": [
            "1 \n",
            "\n",
            "1 \n",
            "\n",
            "2 \n",
            "\n",
            "3 \n",
            "\n",
            "The new list is - [1, 1, 2, 3]\n",
            "Enter a number to compare and print smaller numbers5\n",
            "[1, 1, 2, 3]\n"
          ],
          "name": "stdout"
        }
      ]
    },
    {
      "cell_type": "markdown",
      "metadata": {
        "id": "ynypthrfMg6A"
      },
      "source": [
        "**Q3. Write a program that asks the user how many Fibonacci numbers to generate and then generates them. Take this opportunity to think about how you can use functions. Make sure to ask the user to enter the number of numbers in the sequence to generate.(Hint: The Fibonacci seqence is a sequence of numbers where the next number\n",
        "in the sequence is the sum of the previous two numbers in the sequence. The sequence looks like this: 1, 1, 2, 3, 5, 8, 13, …)** \n"
      ]
    },
    {
      "cell_type": "code",
      "metadata": {
        "colab": {
          "base_uri": "https://localhost:8080/"
        },
        "id": "9fRVo84vmU-9",
        "outputId": "dbe1dbf9-aff1-4998-f072-551e76a04955"
      },
      "source": [
        "def fibo(n_terms):\n",
        "    n1, n2 = 0, 1\n",
        "    count = 0\n",
        "    if n_terms <= 0:\n",
        "        print(\"Please enter a positive integer\")\n",
        "    elif n_terms == 1:\n",
        "        print(\"Fibonacci sequence upto\",n_terms,\":\")\n",
        "        print(n1)\n",
        "    else:\n",
        "        print(\"Fibonacci sequence:\")\n",
        "        while count < n_terms:\n",
        "            print(n1)\n",
        "            nth = n1 + n2\n",
        "            n1 = n2\n",
        "            n2 = nth\n",
        "            count += 1\n",
        "length = input('Enter the length of Fibonacci series: ')\n",
        "fibo(int(length))"
      ],
      "execution_count": 28,
      "outputs": [
        {
          "output_type": "stream",
          "text": [
            "Enter the length of Fibonacci series: 5\n",
            "Fibonacci sequence:\n",
            "0\n",
            "1\n",
            "1\n",
            "2\n",
            "3\n"
          ],
          "name": "stdout"
        }
      ]
    },
    {
      "cell_type": "markdown",
      "metadata": {
        "id": "oZjO7pUlM-DP"
      },
      "source": [
        "Q4. Write a program (function!) that takes a list and returns a new list that contains all the elements of the first list minus all the duplicates. \n",
        "Extras:\n",
        "\n",
        "● Write two different functions to do this - one using a loop and constructing a list, and another using sets. \n"
      ]
    },
    {
      "cell_type": "code",
      "metadata": {
        "colab": {
          "base_uri": "https://localhost:8080/",
          "height": 452
        },
        "id": "7GzsWq_W29d5",
        "outputId": "6254fe10-1409-48c8-c591-6a7033e89a03"
      },
      "source": [
        "def duplicate_f1(x):\n",
        "    new_list = []\n",
        "    for i in x:\n",
        "        if i not in new_list:\n",
        "            new_list.append(i)\n",
        "    return new_list\n",
        "\n",
        "def duplicate_f2(x):\n",
        "    return list(set(x))\n",
        "\n",
        "user_list=[]\n",
        "limit = int(input('Enter the length of the list: '))\n",
        "for i in range(limit):\n",
        "    ele = int(input('Enter '+str(i)+'th element:'))\n",
        "    user_list.append(ele)\n",
        "\n",
        "print(user_list)\n",
        "print ('Function using loop: '+str(duplicate_f1(user_list)))\n",
        "print ('Function using set: '+str(duplicate_f2(user_list)))\n"
      ],
      "execution_count": 1,
      "outputs": [
        {
          "output_type": "stream",
          "name": "stdout",
          "text": [
            "[2, 5, 6, 8, 9]\nFunction using loop: [2, 5, 6, 8, 9]\nFunction using set: [2, 5, 6, 8, 9]\n"
          ]
        }
      ]
    },
    {
      "cell_type": "markdown",
      "metadata": {
        "id": "tnYDtQBTNNJr"
      },
      "source": [
        "Q5. Ask the user for a number and determine whether the number is prime or not. (For those who have forgotten, a prime number is a number that has no divisors.). Use functions\n"
      ]
    },
    {
      "cell_type": "code",
      "metadata": {
        "colab": {
          "base_uri": "https://localhost:8080/"
        },
        "id": "r4pA1M__7BJh",
        "outputId": "0ed0384c-60f2-455e-afb9-06b63dc3d73f"
      },
      "source": [
        "def prime_check():\n",
        "  num = int(input(\"Enter Number you want to check \\t\"))\n",
        "  flag = 1\n",
        "  for i in range(2, int(num/2)):\n",
        "    if(num%i == 0):\n",
        "      flag = 0\n",
        "      break\n",
        "  if(flag==0):\n",
        "    print(\"Number is not Prime\")\n",
        "  else:\n",
        "    print(\"Number is Prime\")\n",
        "prime_check()"
      ],
      "execution_count": 20,
      "outputs": [
        {
          "output_type": "stream",
          "text": [
            "Enter Number you want to check \t11\n",
            "Number is Prime\n"
          ],
          "name": "stdout"
        }
      ]
    }
  ]
}